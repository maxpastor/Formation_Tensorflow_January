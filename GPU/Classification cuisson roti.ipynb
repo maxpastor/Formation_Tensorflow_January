{
 "cells": [
  {
   "cell_type": "code",
   "execution_count": 1,
   "metadata": {
    "collapsed": false
   },
   "outputs": [
    {
     "name": "stderr",
     "output_type": "stream",
     "text": [
      "/usr/lib/python3.6/importlib/_bootstrap.py:219: RuntimeWarning: compiletime version 3.5 of module 'tensorflow.python.framework.fast_tensor_util' does not match runtime version 3.6\n",
      "  return f(*args, **kwds)\n"
     ]
    }
   ],
   "source": [
    "from __future__ import print_function\n",
    "\n",
    "import tensorflow as tf\n",
    "import numpy as np\n",
    "import matplotlib.pyplot as plt\n",
    "import random"
   ]
  },
  {
   "cell_type": "code",
   "execution_count": 2,
   "metadata": {
    "collapsed": false
   },
   "outputs": [],
   "source": [
    "def generate_data():\n",
    "    #Input -> [poids, temps]\n",
    "    #one_hot -> [Pas assez cuit, bien cuit, trop cuit]\n",
    "    input_data = np.array([[130, 98]])\n",
    "    labels = np.array([[0,1,0]])\n",
    "    for i in range(500):\n",
    "        ratio_temps = random.randint(50,100)/1000\n",
    "        poids_rand = random.randint(100,1500)\n",
    "        if(ratio_temps > 0.08):\n",
    "            label = np.array([0,0,1])\n",
    "        elif(ratio_temps<0.07):\n",
    "            label = np.array([1,0,0])\n",
    "        else:\n",
    "            label = np.array([0,1,0])\n",
    "        poids_temps = np.array([poids_rand, poids_rand*ratio_temps])\n",
    "        input_data = np.concatenate((input_data, [poids_temps]), axis=0)\n",
    "        labels = np.concatenate((labels, [label]), axis=0)\n",
    "    return input_data, labels\n"
   ]
  },
  {
   "cell_type": "code",
   "execution_count": 3,
   "metadata": {
    "collapsed": true
   },
   "outputs": [],
   "source": [
    "#hyperparamètres\n",
    "learning_rate = 0.001 #à effacer\n",
    "training_epochs = 1000 #à effacer\n",
    "display_step = 50"
   ]
  },
  {
   "cell_type": "code",
   "execution_count": 4,
   "metadata": {
    "collapsed": false
   },
   "outputs": [],
   "source": [
    "input_data, labels = generate_data()\n",
    "testing_data, testing_labels = generate_data()\n",
    "train_X = np.asmatrix(input_data)\n",
    "train_Y = np.asmatrix(labels)\n",
    "test_X = np.asmatrix(testing_data)\n",
    "test_Y = np.asmatrix(testing_labels)\n",
    "\n",
    "n_samples = train_X.shape[0]\n",
    "# tf Graph Input\n",
    "X = tf.placeholder(\"float\", [1,2])\n",
    "Y = tf.placeholder(\"float\", [1,3])\n",
    "\n",
    "# Set model weights\n",
    "W = tf.Variable(tf.zeros([2,3]), name=\"weight\")\n",
    "b = tf.Variable(tf.zeros([1,3]), name=\"bias\")\n",
    "\n",
    "\n",
    "pred = tf.nn.softmax(tf.add(tf.matmul(X, W), b)) #à effacer\n",
    "\n",
    "# Mean squared error\n",
    "cost = tf.reduce_sum(tf.pow(pred-Y, 2))/(2*n_samples)\n",
    "# Gradient descent\n",
    "#  Note, minimize() knows to modify W and b because Variable objects are trainable=True by default\n",
    "optimizer = tf.train.GradientDescentOptimizer(learning_rate).minimize(cost)\n",
    "correct_prediction = tf.equal(tf.argmax(Y, 1), tf.argmax(pred, 1))\n",
    "accuracy = tf.reduce_mean(tf.cast(correct_prediction, tf.float32))\n"
   ]
  },
  {
   "cell_type": "code",
   "execution_count": 5,
   "metadata": {
    "collapsed": false
   },
   "outputs": [
    {
     "name": "stdout",
     "output_type": "stream",
     "text": [
      "Epoch: 0050 cost= 0.000386902 Accuracy= 0.822355289\n",
      "Epoch: 0100 cost= 0.000343790 Accuracy= 0.828343313\n",
      "Epoch: 0150 cost= 0.000321401 Accuracy= 0.830339321\n",
      "Epoch: 0200 cost= 0.000305103 Accuracy= 0.826347305\n",
      "Epoch: 0250 cost= 0.000291994 Accuracy= 0.830339321\n",
      "Epoch: 0300 cost= 0.000280805 Accuracy= 0.836327345\n",
      "Epoch: 0350 cost= 0.000270944 Accuracy= 0.840319361\n",
      "Epoch: 0400 cost= 0.000262126 Accuracy= 0.846307385\n",
      "Epoch: 0450 cost= 0.000254158 Accuracy= 0.854291417\n",
      "Epoch: 0500 cost= 0.000246899 Accuracy= 0.856287425\n",
      "Epoch: 0550 cost= 0.000240233 Accuracy= 0.868263473\n",
      "Epoch: 0600 cost= 0.000234078 Accuracy= 0.870259481\n",
      "Epoch: 0650 cost= 0.000228366 Accuracy= 0.878243513\n",
      "Epoch: 0700 cost= 0.000223043 Accuracy= 0.886227545\n",
      "Epoch: 0750 cost= 0.000218070 Accuracy= 0.892215569\n",
      "Epoch: 0800 cost= 0.000213410 Accuracy= 0.900199601\n",
      "Epoch: 0850 cost= 0.000209034 Accuracy= 0.902195609\n",
      "Epoch: 0900 cost= 0.000204919 Accuracy= 0.904191617\n",
      "Epoch: 0950 cost= 0.000201043 Accuracy= 0.904191617\n",
      "Epoch: 1000 cost= 0.000197386 Accuracy= 0.906187625\n",
      "Optimization Finished!\n",
      "Pour un roti de 1kg et une cuisson de 60min le roti sera  [[0.21189289 0.61513364 0.1729735 ]]\n",
      "Testing\n",
      "0.9660678642714687\n"
     ]
    }
   ],
   "source": [
    "init = tf.global_variables_initializer()\n",
    "\n",
    "# Start training\n",
    "with tf.Session() as sess:\n",
    "\n",
    "    # Run the initializer\n",
    "    sess.run(init)\n",
    "\n",
    "    # Fit all training data\n",
    "    for epoch in range(training_epochs):\n",
    "        #print(train_Y)\n",
    "        avg_cost = 0.\n",
    "        avg_accuracy = 0.\n",
    "        total_batch = len(input_data)\n",
    "        for (x, y) in zip(train_X, train_Y):\n",
    "            #print(x)\n",
    "            #print(sess.run(pred, feed_dict={X:x, Y:y})[0])\n",
    "            _,c, acc =sess.run([optimizer, cost, accuracy], feed_dict={X: x, Y: y}) #a effacer\n",
    "            #print(acc)\n",
    "            avg_cost += c / total_batch\n",
    "            avg_accuracy += acc/total_batch\n",
    "            #print(sess.run(pred, feed_dict={X: [8]}))\n",
    "            #print(sess.run(cost, feed_dict={X:x, Y:y}))\n",
    "        #print(avg_accuracy)\n",
    "        #Display logs per epoch step\n",
    "        if (epoch+1) % display_step == 0:\n",
    "            print(\"Epoch:\", '%04d' % (epoch+1), \"cost=\", \"{:.9f}\".format(avg_cost), \"Accuracy=\", \"{:.9f}\".format(avg_accuracy))\n",
    "    print(\"Optimization Finished!\")\n",
    "    test = sess.run(pred, feed_dict={X: [[1000, 75]]})\n",
    "    print(\"Pour un roti de 1kg et une cuisson de 60min le roti sera \", test)\n",
    "    print(\"Testing\")\n",
    "    avg_accuracy =0\n",
    "    for (x, y) in zip(test_X, test_Y):\n",
    "        #print(x)\n",
    "        #print(sess.run(pred, feed_dict={X:x, Y:y})[0])\n",
    "        acc =sess.run(accuracy, feed_dict={X: x, Y: y}) #a effacer\n",
    "        prediction = sess.run(pred, feed_dict={X:x})\n",
    "        #print(x,y,\"->\",prediction)\n",
    "        #print(acc)\n",
    "        avg_cost += c / total_batch\n",
    "        avg_accuracy += acc/total_batch\n",
    "        #print(sess.run(pred, feed_dict={X: [8]}))\n",
    "        #print(sess.run(cost, feed_dict={X:x, Y:y}))\n",
    "    print(avg_accuracy)\n",
    "        #Display logs per epoch step"
   ]
  }
 ],
 "metadata": {
  "kernelspec": {
   "display_name": "Python 3",
   "language": "python",
   "name": "python3"
  },
  "language_info": {
   "codemirror_mode": {
    "name": "ipython",
    "version": 3
   },
   "file_extension": ".py",
   "mimetype": "text/x-python",
   "name": "python",
   "nbconvert_exporter": "python",
   "pygments_lexer": "ipython3",
   "version": "3.6.3"
  }
 },
 "nbformat": 4,
 "nbformat_minor": 2
}
